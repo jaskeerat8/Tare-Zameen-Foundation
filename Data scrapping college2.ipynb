{
 "cells": [
  {
   "cell_type": "code",
   "execution_count": 4,
   "metadata": {},
   "outputs": [],
   "source": [
    "#Importing Libraries\n",
    "import pandas as pd\n",
    "import numpy as np\n",
    "import time\n",
    "import requests\n",
    "import lxml\n",
    "import json\n",
    "import string\n",
    "from bs4 import BeautifulSoup\n",
    "from selenium import webdriver\n",
    "from selenium.webdriver.support.ui import WebDriverWait\n",
    "from selenium.webdriver.support import expected_conditions as EC\n",
    "from selenium.webdriver.common.by import By"
   ]
  },
  {
   "cell_type": "code",
   "execution_count": 5,
   "metadata": {},
   "outputs": [],
   "source": [
    "#Collecting Information of number of colleges\n",
    "dic = {}\n",
    "for i in list(string.ascii_uppercase):\n",
    "    url = \"http://www.studyguideindia.com/Colleges/default.asp?cat={}\".format(i)\n",
    "    html = requests.get(url).text\n",
    "    soup = BeautifulSoup(html, \"lxml\")\n",
    "    body = soup.find(\"div\", class_ = \"PR5\").find(\"table\")\n",
    "    main = body.find(\"h3\", class_ = \"subheading\").text.replace(\" Search Results - (\", \"\").replace(\") Colleges found\", \"\")\n",
    "    dic[i] = int(main)"
   ]
  },
  {
   "cell_type": "code",
   "execution_count": 6,
   "metadata": {},
   "outputs": [],
   "source": [
    "#Collecting Links of the colleges\n",
    "dic = {'X': 9,'Z': 14}\n",
    "chromedriver = r\"C:\\Users\\jaske\\Downloads\\chromedriver_win32\\chromedriver\"\n",
    "l = []\n",
    "for k,v in dic.items():\n",
    "    url = \"http://www.studyguideindia.com/Colleges/default.asp?cat={}\"\n",
    "    driver = webdriver.Chrome(chromedriver)\n",
    "    driver.get(url.format(k))\n",
    "    \n",
    "    if(v > 30):\n",
    "        for j in range(2, (v//30)+2):\n",
    "            try:\n",
    "                html = driver.page_source\n",
    "                soup = BeautifulSoup(html, \"lxml\")\n",
    "                table = soup.find(\"table\", class_ = \"clg-listing\")\n",
    "                links = table.find_all(\"a\", href = True)\n",
    "                for link in links:\n",
    "                    l.append(link[\"href\"])\n",
    "                time.sleep(2)\n",
    "                driver.find_element_by_link_text(str(j)).click()\n",
    "            except Exception as e:\n",
    "                pass\n",
    "    else:\n",
    "        try:\n",
    "            html = driver.page_source\n",
    "            soup = BeautifulSoup(html, \"lxml\")\n",
    "            table = soup.find(\"table\", class_ = \"clg-listing\")\n",
    "            links = table.find_all(\"a\", href = True)\n",
    "            for link in links:\n",
    "                l.append(link[\"href\"])\n",
    "        except Exception as e:\n",
    "                pass\n",
    "    driver.close()"
   ]
  },
  {
   "cell_type": "code",
   "execution_count": 7,
   "metadata": {
    "scrolled": true
   },
   "outputs": [],
   "source": [
    "#Cleaning the Data\n",
    "df = pd.DataFrame()\n",
    "row = 0\n",
    "\n",
    "for i in l:\n",
    "    try:\n",
    "        m = []\n",
    "        html = requests.get(i).text\n",
    "        soup = BeautifulSoup(html, \"lxml\")\n",
    "        body = soup.find(\"div\", {\"id\":\"college_details-new\"}).find(\"div\", {\"id\":\"clg_dtl\"})\n",
    "        main = body.table.tbody\n",
    "        content = main.find_all(\"td\")\n",
    "        for con in content:\n",
    "            m.append(con.text.replace(\"\\n\",\"\").replace(\"\\r\",\"\").replace(\"\\t\",\"\").replace(\"  \",\"\"))\n",
    "        dic_json = {m[j]: m[j + 1] for j in range(0, len(m), 2)}\n",
    "        df = df.append(dic_json, ignore_index = True)\n",
    "    except Exception as e:\n",
    "        pass\n",
    "\n",
    "#Saving to CSV\n",
    "df.to_csv(r\"C:\\Users\\jaske\\OneDrive\\Desktop\\data.csv\")"
   ]
  }
 ],
 "metadata": {
  "kernelspec": {
   "display_name": "Python 3",
   "language": "python",
   "name": "python3"
  },
  "language_info": {
   "codemirror_mode": {
    "name": "ipython",
    "version": 3
   },
   "file_extension": ".py",
   "mimetype": "text/x-python",
   "name": "python",
   "nbconvert_exporter": "python",
   "pygments_lexer": "ipython3",
   "version": "3.8.5"
  }
 },
 "nbformat": 4,
 "nbformat_minor": 4
}
