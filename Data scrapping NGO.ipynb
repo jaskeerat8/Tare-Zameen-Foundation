{
 "cells": [
  {
   "cell_type": "code",
   "execution_count": 1,
   "metadata": {},
   "outputs": [],
   "source": [
    "#Importing Packages\n",
    "import pandas as pd\n",
    "import numpy as np\n",
    "import lxml\n",
    "import requests\n",
    "import time\n",
    "from bs4 import BeautifulSoup\n",
    "from selenium import webdriver\n",
    "from selenium.webdriver.support.ui import WebDriverWait\n",
    "from selenium.webdriver.support import expected_conditions as EC\n",
    "from selenium.webdriver.common.by import By"
   ]
  },
  {
   "cell_type": "code",
   "execution_count": 2,
   "metadata": {
    "scrolled": false
   },
   "outputs": [],
   "source": [
    "#Getting States Data\n",
    "states = {}\n",
    "url = \"https://ngodarpan.gov.in/index.php/home/statewise\"\n",
    "source = requests.get(url).text\n",
    "soup = BeautifulSoup(source,\"lxml\")\n",
    "content = soup.find(\"table\", class_ = \"middle_section_bg\")\n",
    "con = content.find_all(\"a\")\n",
    "for c in con:\n",
    "    d = c.text.replace(\"\\xa0\",\"\").split(\"(\")[0]\n",
    "    states[d] = [c.text.split(\"(\")[1].replace(\")\",\"\"), c['href'][:-1] + \"{}\"]"
   ]
  },
  {
   "cell_type": "code",
   "execution_count": 3,
   "metadata": {},
   "outputs": [],
   "source": [
    "states = {'LAKSHADWEEP': ['2',  'https://ngodarpan.gov.in/index.php/home/statewise_ngo/2/31/{}']}"
   ]
  },
  {
   "cell_type": "code",
   "execution_count": 4,
   "metadata": {},
   "outputs": [],
   "source": [
    "for k,v in states.items():\n",
    "    num = int(v[0])//10\n",
    "    url = v[1]\n",
    "    data = pd.DataFrame(columns = [\"S.no.\",\"ID\",\"Name\",\"Email-id\",\"Mobile no.\",\"Address\",\"City\",\"State\",\"Sector\",\"Website\"])\n",
    "    data.drop(data.index, inplace=True)\n",
    "    count = 0\n",
    "\n",
    "    for j in range(1,num + 2):\n",
    "        chromedriver = r\"C:\\Users\\jaske\\Downloads\\chromedriver_win32\\chromedriver\"\n",
    "        driver = webdriver.Chrome(chromedriver)\n",
    "        driver.get(url.format(j))\n",
    "\n",
    "        for i in range(1,11):\n",
    "            try:\n",
    "                path = \"/html/body/div[9]/div[1]/div[3]/div/div/div[2]/table/tbody/tr[{}]/td[2]/a\"\n",
    "                time.sleep(5)\n",
    "                driver.find_element_by_xpath(path.format(i)).click()\n",
    "                WebDriverWait(driver,30).until(EC.presence_of_element_located((By.CLASS_NAME,\"modal-content\")))\n",
    "                time.sleep(5)\n",
    "\n",
    "                html = driver.page_source\n",
    "                soup = BeautifulSoup(html,\"lxml\")\n",
    "                count = count + 1\n",
    "                content = soup.find(\"div\", {\"id\":\"ngo_info_modal\", \"class\":\"modal fade in\"})\n",
    "                mainbody = content.find(\"div\", class_ = \"container\")   \n",
    "                name = mainbody.find(\"h3\").text.strip()\n",
    "                ids = mainbody.table.find(\"span\", {\"id\":\"UniqueID\"}).text.strip()\n",
    "                tables = mainbody.find_all(\"table\")\n",
    "                sector = tables[3].find(\"td\", {\"id\":\"key_issues\"}).text.strip().replace(\"&amp;\",\"&\").upper()\n",
    "                address = tables[7].find(\"td\", {\"id\":\"address\"}).text.strip()\n",
    "                city = tables[7].find(\"td\", {\"id\":\"city\"}).text.strip()\n",
    "                state = tables[7].find(\"td\", {\"id\":\"state_p_ngo\"}).text.strip()\n",
    "                mobile = tables[7].find(\"td\", {\"id\":\"mobile_n\"}).text.strip()\n",
    "                website = tables[7].find(\"td\", {\"id\":\"ngo_web_url\"}).text.strip()\n",
    "                email = tables[7].find(\"td\", {\"id\":\"email_n\"}).text.strip().replace(\"(at)\",\"@\").replace(\"[dot]\",\".\")\n",
    "                data = data.append({\"S.no.\":count,\"ID\":ids,\"Name\":name,\"Email-id\":email,\"Mobile no.\":mobile,\"Address\":address,\"City\":city,\"State\":state,\"Sector\":sector,\"Website\":website},ignore_index = True)\n",
    "\n",
    "                x = WebDriverWait(driver,30).until(EC.presence_of_element_located((By.XPATH,'//*[@id=\"ngo_info_modal\"]/div[2]/div/div[1]/button')))\n",
    "                driver.execute_script(\"arguments[0].click();\", x)\n",
    "                WebDriverWait(driver,30).until(EC.presence_of_element_located((By.CLASS_NAME,\"modal-content\")))\n",
    "            except Exception as e:\n",
    "                pass\n",
    "        driver.close()\n",
    "\n",
    "    data.loc[data[\"Sector\"].str.contains(\"EDUCATION\"), \"Sector\"] = \"Education\"\n",
    "    data.loc[data[\"Sector\"].str.contains(\"HEALTH\"), \"Sector\"] = \"Health\"\n",
    "    data.loc[data[\"Sector\"].str.contains(\"EMPOWERMENT\"), \"Sector\"] = \"Empowerment\"\n",
    "    data.loc[~data[\"Sector\"].str.contains(\"Education|Health|Empowerment\"), \"Sector\"] = \"Other\"\n",
    "    p = r\"C:\\Users\\jaske\\OneDrive\\Desktop\\data\"\n",
    "    path = p + \"\\\\\" + k  + \".xlsx\"\n",
    "    data.to_excel(path, index =False)"
   ]
  },
  {
   "cell_type": "code",
   "execution_count": null,
   "metadata": {},
   "outputs": [],
   "source": []
  }
 ],
 "metadata": {
  "kernelspec": {
   "display_name": "Python 3",
   "language": "python",
   "name": "python3"
  },
  "language_info": {
   "codemirror_mode": {
    "name": "ipython",
    "version": 3
   },
   "file_extension": ".py",
   "mimetype": "text/x-python",
   "name": "python",
   "nbconvert_exporter": "python",
   "pygments_lexer": "ipython3",
   "version": "3.8.5"
  }
 },
 "nbformat": 4,
 "nbformat_minor": 4
}
