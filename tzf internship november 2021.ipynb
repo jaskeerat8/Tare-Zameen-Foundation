{
 "cells": [
  {
   "cell_type": "code",
   "execution_count": 1,
   "metadata": {},
   "outputs": [],
   "source": [
    "#Importing Libraries\n",
    "import pandas as pd\n",
    "import smtplib\n",
    "import io\n",
    "import os\n",
    "from datetime import datetime\n",
    "from email.mime.multipart import MIMEMultipart\n",
    "from email.mime.application import MIMEApplication\n",
    "from email.mime.text import MIMEText\n",
    "from email.mime.base import MIMEBase\n",
    "from email import encoders\n",
    "from PIL import Image, ImageDraw, ImageFont\n",
    "import base64\n",
    "import requests\n",
    "pd.set_option('display.max_rows', None)"
   ]
  },
  {
   "cell_type": "code",
   "execution_count": 2,
   "metadata": {},
   "outputs": [],
   "source": [
    "#email ids to be used\n",
    "email_id = {\"info@tarezameenfoundation.org\" : \"year@2021\", \"csr@tarezameenfoundation.org\" : \"year@2021\", \"hr@tarezameenfoundation.org\" : \"tzf@1234\"}"
   ]
  },
  {
   "cell_type": "code",
   "execution_count": 3,
   "metadata": {},
   "outputs": [],
   "source": [
    "#HTML for the internship message and other attachments\n",
    "file = open(r\"C:\\Users\\jaske\\OneDrive\\Desktop\\NGO\\email\\november 2021 internship\\internship_mail.html\", \"r\")\n",
    "html_body = file.read()\n",
    "file.close()\n",
    "\n",
    "FIP = r\"C:\\Users\\jaske\\OneDrive\\Desktop\\NGO\\email\\november 2021 internship\\Flexi Internship programme.pdf\"\n",
    "Broschure = r\"C:\\Users\\jaske\\OneDrive\\Desktop\\NGO\\email\\november 2021 internship\\TZF Brochure.pdf\"\n",
    "excel_path = r\"C:\\Users\\jaske\\OneDrive\\Desktop\\NGO\\email\\november 2021 internship\\college Total.xlsx\"\n",
    "#excel_path = r\"C:\\Users\\jaske\\OneDrive\\Desktop\\college Total.xlsx\""
   ]
  },
  {
   "cell_type": "code",
   "execution_count": 4,
   "metadata": {
    "scrolled": true
   },
   "outputs": [
    {
     "name": "stdout",
     "output_type": "stream",
     "text": [
      "(550, b'5.4.5 Daily user sending quota exceeded. h22sm13895385pgh.80 - gsmtp')\n",
      "(550, b'5.4.5 Daily user sending quota exceeded. fw21sm1887913pjb.25 - gsmtp')\n",
      "##########################################################################\n",
      "##########################################################################\n",
      "##########################################################################\n"
     ]
    }
   ],
   "source": [
    "for sender, password in email_id.items():\n",
    "    \n",
    "    for i in range(15):\n",
    "        main_df = pd.read_excel(excel_path)\n",
    "        df = main_df.head(90)\n",
    "\n",
    "        message = MIMEMultipart()\n",
    "        message[\"From\"] = sender\n",
    "        message[\"Subject\"] = \"Flexi Internship programme 2021-2022\"\n",
    "        message[\"To\"] = sender\n",
    "\n",
    "        try:\n",
    "            f = open(FIP, 'rb')\n",
    "            attach = MIMEApplication(f.read(), _subtype=\"pdf\")\n",
    "            attach.add_header(\"Content-Disposition\", \"attachment\", filename = \"Flexi Internship programme.pdf\")\n",
    "            message.attach(attach)\n",
    "            f.close()\n",
    "        except Exception as e:\n",
    "            print(e)\n",
    "            pass\n",
    "\n",
    "        try:\n",
    "            f = open(Broschure, 'rb')\n",
    "            attach = MIMEApplication(f.read(), _subtype=\"pdf\")\n",
    "            attach.add_header(\"Content-Disposition\", \"attachment\", filename = \"TZF Broschure.pdf\")\n",
    "            message.attach(attach)\n",
    "            f.close()\n",
    "        except Exception as e:\n",
    "            print(e)\n",
    "            pass\n",
    "\n",
    "        message.attach(MIMEText(html_body, \"html\"))\n",
    "\n",
    "\n",
    "        try:\n",
    "            session = smtplib.SMTP(\"smtp.gmail.com\", 587)\n",
    "            session.starttls()\n",
    "            session.login(sender, password)\n",
    "            text = message.as_string()\n",
    "            session.sendmail(sender, df[\"Email\"].to_list(), text)\n",
    "            session.quit()\n",
    "            del message[\"From\"], message[\"Subject\"], message[\"To\"]\n",
    "        except Exception as e:\n",
    "            print(e)\n",
    "            continue\n",
    "\n",
    "        main_df = main_df.iloc[90:]\n",
    "        main_df = main_df.reset_index(drop=True)\n",
    "        main_df.to_excel(excel_path, index = False)\n",
    "    print(\"##########################################################################\")"
   ]
  },
  {
   "cell_type": "code",
   "execution_count": null,
   "metadata": {},
   "outputs": [],
   "source": []
  }
 ],
 "metadata": {
  "kernelspec": {
   "display_name": "Python 3",
   "language": "python",
   "name": "python3"
  },
  "language_info": {
   "codemirror_mode": {
    "name": "ipython",
    "version": 3
   },
   "file_extension": ".py",
   "mimetype": "text/x-python",
   "name": "python",
   "nbconvert_exporter": "python",
   "pygments_lexer": "ipython3",
   "version": "3.8.5"
  }
 },
 "nbformat": 4,
 "nbformat_minor": 4
}
